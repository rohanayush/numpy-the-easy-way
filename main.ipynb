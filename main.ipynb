{
 "cells": [
  {
   "cell_type": "code",
   "execution_count": 1,
   "metadata": {},
   "outputs": [],
   "source": [
    "import numpy as np"
   ]
  },
  {
   "cell_type": "code",
   "execution_count": 4,
   "metadata": {},
   "outputs": [
    {
     "name": "stdout",
     "output_type": "stream",
     "text": [
      "[1 2 3 4 5]\n",
      "<class 'numpy.ndarray'>\n"
     ]
    }
   ],
   "source": [
    "a = np.array([1,2,3,4,5])\n",
    "print(a)\n",
    "print(type (a))"
   ]
  },
  {
   "cell_type": "code",
   "execution_count": 5,
   "metadata": {},
   "outputs": [
    {
     "name": "stdout",
     "output_type": "stream",
     "text": [
      "[1 2 3]\n"
     ]
    }
   ],
   "source": [
    "print(a[:-2])"
   ]
  },
  {
   "cell_type": "code",
   "execution_count": 6,
   "metadata": {},
   "outputs": [],
   "source": [
    "a[2]=33"
   ]
  },
  {
   "cell_type": "code",
   "execution_count": 7,
   "metadata": {},
   "outputs": [
    {
     "data": {
      "text/plain": [
       "array([ 1,  2, 33,  4,  5])"
      ]
     },
     "execution_count": 7,
     "metadata": {},
     "output_type": "execute_result"
    }
   ],
   "source": [
    "a"
   ]
  },
  {
   "cell_type": "markdown",
   "metadata": {},
   "source": [
    "<h1 style='color:teal;bbox-shadow:2px 2px silver;padding:5px;border-radius:5px;text-align:center'>Understanding Dimensions</h1>"
   ]
  },
  {
   "cell_type": "code",
   "execution_count": 41,
   "metadata": {},
   "outputs": [
    {
     "name": "stdout",
     "output_type": "stream",
     "text": [
      "Shape (3,)\n",
      "Dimension  1\n"
     ]
    }
   ],
   "source": [
    "one_dim = np.array([2,1,2])\n",
    "print(\"Shape\",one_dim.shape)\n",
    "print(\"Dimension \",one_dim.ndim)"
   ]
  },
  {
   "cell_type": "code",
   "execution_count": 36,
   "metadata": {},
   "outputs": [
    {
     "name": "stdout",
     "output_type": "stream",
     "text": [
      "Shape (3, 4)\n",
      "Dimension  2\n"
     ]
    }
   ],
   "source": [
    "a_mult = np.array(\n",
    "    [\n",
    "        [1,2,3,3],\n",
    "        [3,4,5,4],\n",
    "        [7,8,9,12]\n",
    "    ]\n",
    ")\n",
    "print(\"Shape\",a_mult.shape)\n",
    "print(\"Dimension \",a_mult.ndim)"
   ]
  },
  {
   "cell_type": "code",
   "execution_count": 29,
   "metadata": {},
   "outputs": [
    {
     "name": "stdout",
     "output_type": "stream",
     "text": [
      "Shape format : (number of inner array items, number of rows in each item, numbers of columns)  (3, 2, 4)\n",
      "dimension  3\n"
     ]
    }
   ],
   "source": [
    "#Three dimensions [ [ [],[] ]]\n",
    "a_mul_dim = np.array([\n",
    "    [\n",
    "        [1,2,3,3],\n",
    "        [3,4,5,4],\n",
    "],\n",
    "    \n",
    "    [\n",
    "         [1,2,3,3],\n",
    "        [3,4,5,4],\n",
    "    ],\n",
    "    [\n",
    "         [1,2,3,3],\n",
    "        [3,4,5,4],\n",
    "    ]\n",
    "]\n",
    ")\n",
    "print(\"Shape format : (number of inner array items, number of rows in each item, numbers of columns) \",a_mul_dim.shape)\n",
    "print(\"dimension \",a_mul_dim.ndim)"
   ]
  },
  {
   "cell_type": "code",
   "execution_count": 30,
   "metadata": {},
   "outputs": [
    {
     "name": "stdout",
     "output_type": "stream",
     "text": [
      "Shape format : (number of inner array items, number of rows in each item, numbers of columns)  (3, 1, 2, 4)\n",
      "dimension  4\n"
     ]
    }
   ],
   "source": [
    "#fourth dimensions [ [ [],[] ]]\n",
    "a_mul_dim4 = np.array([\n",
    "    [\n",
    "        [\n",
    " [1,2,3,3],\n",
    "        [3,4,5,4],\n",
    "        ]\n",
    "       \n",
    "],\n",
    "    \n",
    "    [\n",
    "         [\n",
    " [1,2,3,3],\n",
    "        [3,4,5,4],\n",
    "        ]\n",
    "    ],\n",
    "    [\n",
    "          [\n",
    " [1,2,3,3],\n",
    "        [3,4,5,4],\n",
    "        ]\n",
    "    ]\n",
    "]\n",
    ")\n",
    "print(\"Shape format : (number of inner array items, number of rows in each item, numbers of columns) \",a_mul_dim4.shape)\n",
    "print(\"dimension \",a_mul_dim4.ndim)"
   ]
  },
  {
   "cell_type": "code",
   "execution_count": 32,
   "metadata": {},
   "outputs": [
    {
     "name": "stdout",
     "output_type": "stream",
     "text": [
      "Shape format : (number of inner array items, number of rows in each item, numbers of columns)  (3, 2, 2, 4)\n",
      "dimension  4\n"
     ]
    }
   ],
   "source": [
    "#fourth dimensionscomp2 [ [ [],[] ]]\n",
    "a_mul_dim4comp2 = np.array([\n",
    "    [\n",
    "       [\n",
    "            [1,2,3,3],\n",
    "            [3,4,5,4],\n",
    "        ],\n",
    "        [\n",
    "            [1,2,3,3],\n",
    "            [3,4,5,4],\n",
    "        ]\n",
    "       \n",
    "],\n",
    "    \n",
    "    [\n",
    "         [\n",
    "            [1,2,3,3],\n",
    "            [3,4,5,4],\n",
    "        ],\n",
    "        [\n",
    "            [1,2,3,3],\n",
    "            [3,4,5,4],\n",
    "        ]\n",
    "    ],\n",
    "    [\n",
    "       [\n",
    "            [1,2,3,3],\n",
    "            [3,4,5,4],\n",
    "        ],\n",
    "        [\n",
    "            [1,2,3,3],\n",
    "            [3,4,5,4],\n",
    "        ]\n",
    "    ]\n",
    "]\n",
    ")\n",
    "print(\"Shape format : (number of inner array items, number of rows in each item, numbers of columns) \",a_mul_dim4comp2.shape)\n",
    "print(\"dimension \",a_mul_dim4comp2.ndim)"
   ]
  },
  {
   "cell_type": "markdown",
   "metadata": {},
   "source": [
    "<p style='color:white;font-weight:800;background:teal;border-radius:5px;text-align:center'> Basically with each dimension it calculates how many inner brackets are there `[` and at last when it reaches the innermost array it shows number as the number of items in that array</p>"
   ]
  },
  {
   "cell_type": "code",
   "execution_count": null,
   "metadata": {},
   "outputs": [],
   "source": []
  }
 ],
 "metadata": {
  "kernelspec": {
   "display_name": "base",
   "language": "python",
   "name": "python3"
  },
  "language_info": {
   "codemirror_mode": {
    "name": "ipython",
    "version": 3
   },
   "file_extension": ".py",
   "mimetype": "text/x-python",
   "name": "python",
   "nbconvert_exporter": "python",
   "pygments_lexer": "ipython3",
   "version": "3.11.5"
  }
 },
 "nbformat": 4,
 "nbformat_minor": 2
}
